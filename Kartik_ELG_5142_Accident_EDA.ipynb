{
  "nbformat": 4,
  "nbformat_minor": 0,
  "metadata": {
    "colab": {
      "provenance": [],
      "collapsed_sections": [
        "eU4Ds0DlapRW",
        "wHzhs45Hdtiw",
        "D7oFEFlngDo5"
      ]
    },
    "kernelspec": {
      "name": "python3",
      "display_name": "Python 3"
    },
    "language_info": {
      "name": "python"
    }
  },
  "cells": [
    {
      "cell_type": "markdown",
      "source": [
        "# Importing Dataset and Libraries\n"
      ],
      "metadata": {
        "id": "g3d8UdS0a50U"
      }
    },
    {
      "cell_type": "code",
      "execution_count": 1,
      "metadata": {
        "id": "u9DLpD4J_SBQ"
      },
      "outputs": [],
      "source": [
        "import os\n",
        "import pandas as pd\n",
        "import seaborn as sns\n",
        "from yellowbrick.target import FeatureCorrelation\n",
        "import matplotlib.pyplot as plt\n",
        "from sklearn.model_selection import train_test_split, cross_val_score\n",
        "from sklearn.pipeline import Pipeline\n",
        "from sklearn.impute import SimpleImputer\n",
        "from sklearn.preprocessing import StandardScaler, OneHotEncoder\n",
        "from sklearn.preprocessing import LabelEncoder\n",
        "from sklearn.compose import ColumnTransformer\n",
        "from sklearn.neighbors import KNeighborsClassifier\n",
        "from sklearn.tree import DecisionTreeClassifier\n",
        "from sklearn.metrics import accuracy_score, classification_report, confusion_matrix\n"
      ]
    },
    {
      "cell_type": "code",
      "source": [
        "original_data_directory = \"ELG-5142-Project-Group-6/\"\n",
        "\n",
        "if not(os.path.exists(original_data_directory.split(\"/\")[0])):\n",
        "  !git clone https://github.com/ANISHG-26/ELG-5142-Project-Group-6.git\n",
        "os.chdir(original_data_directory)"
      ],
      "metadata": {
        "id": "iBEaPv6o_aQN"
      },
      "execution_count": null,
      "outputs": []
    },
    {
      "cell_type": "code",
      "source": [
        "data = \"2019_Tabular_Transportation_Collision_Data.csv\"\n",
        "df = pd.read_csv(data)"
      ],
      "metadata": {
        "id": "QDoJFc_t_ri1"
      },
      "execution_count": 3,
      "outputs": []
    },
    {
      "cell_type": "code",
      "source": [
        "df.columns"
      ],
      "metadata": {
        "id": "BlmSjzKNsFIQ",
        "colab": {
          "base_uri": "https://localhost:8080/"
        },
        "outputId": "95e0a7aa-a235-4e1e-a255-af081f822e2b"
      },
      "execution_count": 4,
      "outputs": [
        {
          "output_type": "execute_result",
          "data": {
            "text/plain": [
              "Index(['Anom_ID', 'Accident_Date', 'Accident_Time', 'Location', 'Geo_ID',\n",
              "       'Accident_Location', 'Classification_of_Accident',\n",
              "       'Initial_Impact_Type', 'Environment_Condition', 'Light',\n",
              "       'Road_Surface_Condition', 'Traffic_Control',\n",
              "       'Traffic_Control_Condition', 'No__of_Vehicles', 'No__of_Bicycles',\n",
              "       'No__of_Motorcycles', 'No__of_Pedestrians', 'Max_Injury',\n",
              "       'No__of_Injuries', 'No__of_Minimal', 'No__of_Minor', 'No__of_Major',\n",
              "       'No__of_Fatal', 'X', 'Y', 'Latitude', 'Longitude', 'ObjectId'],\n",
              "      dtype='object')"
            ]
          },
          "metadata": {},
          "execution_count": 4
        }
      ]
    },
    {
      "cell_type": "code",
      "source": [
        "df.info()"
      ],
      "metadata": {
        "id": "NPuHm-0HAORj"
      },
      "execution_count": null,
      "outputs": []
    },
    {
      "cell_type": "code",
      "source": [
        "df.head().T"
      ],
      "metadata": {
        "id": "20RypwhWAU5h"
      },
      "execution_count": null,
      "outputs": []
    },
    {
      "cell_type": "code",
      "source": [
        "df.describe().T"
      ],
      "metadata": {
        "id": "Gu5gKNnqAcTS"
      },
      "execution_count": null,
      "outputs": []
    },
    {
      "cell_type": "code",
      "source": [
        "print(df.isnull().sum())"
      ],
      "metadata": {
        "id": "D0Fw9ES_oCKr"
      },
      "execution_count": null,
      "outputs": []
    },
    {
      "cell_type": "code",
      "source": [
        "df.Geo_ID.value_counts()"
      ],
      "metadata": {
        "id": "5WjdUCzyqSuN",
        "colab": {
          "base_uri": "https://localhost:8080/"
        },
        "outputId": "4ea6b588-847c-4eea-fab4-45dcb95e3c00"
      },
      "execution_count": null,
      "outputs": [
        {
          "output_type": "execute_result",
          "data": {
            "text/plain": [
              "__3ZA2Y4    61\n",
              "2237        58\n",
              "__3ZA2R8    57\n",
              "12421       48\n",
              "2707        43\n",
              "            ..\n",
              "3716         1\n",
              "__3ZBNEB     1\n",
              "__3ZA3KQ     1\n",
              "11540        1\n",
              "__3ZA599     1\n",
              "Name: Geo_ID, Length: 6072, dtype: int64"
            ]
          },
          "metadata": {},
          "execution_count": 12
        }
      ]
    },
    {
      "cell_type": "markdown",
      "source": [
        "# Dropping Unrelated Columns and adding Injured Column\n"
      ],
      "metadata": {
        "id": "65h_6UNraaEM"
      }
    },
    {
      "cell_type": "code",
      "source": [
        "df.drop(['Max_Injury', 'No__of_Minimal', 'No__of_Minor', 'No__of_Major', 'No__of_Fatal', 'Anom_ID','ObjectId'], axis=1, inplace=True) #,'Accident_Date','Accident_Time','Location','Geo_ID'], axis=1, inplace=True)"
      ],
      "metadata": {
        "id": "sM0Idz6lppBw"
      },
      "execution_count": 5,
      "outputs": []
    },
    {
      "cell_type": "code",
      "source": [
        "df.drop(['Accident_Date','Accident_Time','Location','Geo_ID'], axis=1, inplace=True)"
      ],
      "metadata": {
        "id": "GL8QJmFQ6nAU"
      },
      "execution_count": 6,
      "outputs": []
    },
    {
      "cell_type": "code",
      "source": [
        "df['Injured'] = df['No__of_Injuries'].apply(lambda x: 1 if x > 0 else 0)"
      ],
      "metadata": {
        "id": "vCCcnOxnrrso"
      },
      "execution_count": 7,
      "outputs": []
    },
    {
      "cell_type": "code",
      "source": [
        "df.Injured.value_counts()"
      ],
      "metadata": {
        "colab": {
          "base_uri": "https://localhost:8080/"
        },
        "id": "Fu6iI1xwC-YV",
        "outputId": "3d60a03f-c11a-447f-ce18-bdde33fc8467"
      },
      "execution_count": 8,
      "outputs": [
        {
          "output_type": "execute_result",
          "data": {
            "text/plain": [
              "0    13678\n",
              "1     2721\n",
              "Name: Injured, dtype: int64"
            ]
          },
          "metadata": {},
          "execution_count": 8
        }
      ]
    },
    {
      "cell_type": "code",
      "source": [
        "df[df['No__of_Injuries'] > 1].T"
      ],
      "metadata": {
        "id": "Ib3kq0Cpsy5F"
      },
      "execution_count": null,
      "outputs": []
    },
    {
      "cell_type": "code",
      "source": [
        "sns.heatmap(df.corr())"
      ],
      "metadata": {
        "id": "gmzPKNMtnUgb"
      },
      "execution_count": null,
      "outputs": []
    },
    {
      "cell_type": "markdown",
      "source": [
        "# Exploratory Data Analysis"
      ],
      "metadata": {
        "id": "eU4Ds0DlapRW"
      }
    },
    {
      "cell_type": "code",
      "source": [
        "df['Accident_Date'] = pd.to_datetime(df['Accident_Date'])\n",
        "\n",
        "# Group the data by 'Accident_Date' and sum the 'No__of_Injuries' for each date\n",
        "injuries_by_date = df.groupby('Accident_Date')['Injured'].sum()\n",
        "dates_with_more_than_14_injuries = injuries_by_date[injuries_by_date > 14]\n",
        "print(df[])\n",
        "# Plot the graph\n",
        "plt.figure(figsize=(12, 6))\n",
        "plt.plot(injuries_by_date.index, injuries_by_date.values, color='blue', marker='o', linestyle='-')\n",
        "plt.title('Number of Injuries Over Time')\n",
        "plt.xlabel('Date')\n",
        "plt.ylabel('Number of Injuries')\n",
        "plt.grid(True)\n",
        "plt.xticks(rotation=45)\n",
        "plt.yticks(range(0, max(injuries_by_date.values)+1))\n",
        "plt.tight_layout()\n",
        "plt.show()"
      ],
      "metadata": {
        "id": "Db1q5JAjuloC"
      },
      "execution_count": null,
      "outputs": []
    },
    {
      "cell_type": "code",
      "source": [
        "filtered_df = df[df['Accident_Date'].isin(dates_with_more_than_14_injuries.index)]\n",
        "\n",
        "# Select the desired columns for tabulation\n",
        "selected_columns = ['Accident_Date', 'No__of_Vehicles', 'No__of_Bicycles', 'No__of_Motorcycles', 'No__of_Pedestrians']\n",
        "\n",
        "# Tabulate the selected data\n",
        "tabulated_data = filtered_df[selected_columns]\n",
        "\n",
        "# Print the tabulated data\n",
        "print(tabulated_data)"
      ],
      "metadata": {
        "id": "a6vFb8GrxQiG"
      },
      "execution_count": null,
      "outputs": []
    },
    {
      "cell_type": "code",
      "source": [
        "df.groupby('Road_Surface_Condition')['Injured'].sum()"
      ],
      "metadata": {
        "id": "fcQGUcALyC9G"
      },
      "execution_count": null,
      "outputs": []
    },
    {
      "cell_type": "code",
      "source": [
        "wet_condition_df = df[df['Road_Surface_Condition'] == '02 - Wet']\n",
        "\n",
        "# Count the number of rows where 'No__of_Injuries' is zero and positive\n",
        "zero_injuries_count = (wet_condition_df['No__of_Injuries'] == 0).sum()\n",
        "positive_injuries_count = (wet_condition_df['No__of_Injuries'] > 0).sum()\n",
        "print(zero_injuries_count, positive_injuries_count)"
      ],
      "metadata": {
        "colab": {
          "base_uri": "https://localhost:8080/"
        },
        "id": "QF4m50th0lQV",
        "outputId": "fe77136c-59b0-4295-d754-09a41f99c650"
      },
      "execution_count": null,
      "outputs": [
        {
          "output_type": "stream",
          "name": "stdout",
          "text": [
            "2336 452\n"
          ]
        }
      ]
    },
    {
      "cell_type": "code",
      "source": [
        "\n",
        "# Initialize lists to store the counts\n",
        "conditions = []\n",
        "zero_injuries_counts = []\n",
        "positive_injuries_counts = []\n",
        "ratio_counts = []\n",
        "# Loop through each unique road surface condition\n",
        "for condition in df['Road_Surface_Condition'].unique():\n",
        "    # Filter the DataFrame for the current road surface condition\n",
        "    condition_df = df[df['Road_Surface_Condition'] == condition]\n",
        "\n",
        "    # Count the number of rows where 'No__of_Injuries' is zero and positive\n",
        "    zero_injuries_count = (condition_df['No__of_Injuries'] == 0).sum()\n",
        "    positive_injuries_count = (condition_df['No__of_Injuries'] > 0).sum()\n",
        "\n",
        "    # Append the counts and condition to the lists\n",
        "    conditions.append(condition)\n",
        "    zero_injuries_counts.append(zero_injuries_count)\n",
        "    positive_injuries_counts.append(positive_injuries_count)\n",
        "    ratio_counts.append(positive_injuries_count/zero_injuries_count)\n",
        "\n",
        "# Create a new DataFrame to store the tabular data\n",
        "tabular_data = pd.DataFrame({\n",
        "    'Road_Surface_Condition': conditions,\n",
        "    'Zero_Injuries_Count': zero_injuries_counts,\n",
        "    'Positive_Injuries_Count': positive_injuries_counts,\n",
        "    'Ratio': ratio_counts\n",
        "})\n",
        "\n",
        "# Print the tabular data\n",
        "print(tabular_data)"
      ],
      "metadata": {
        "id": "8OsAaBzs1hvL"
      },
      "execution_count": null,
      "outputs": []
    },
    {
      "cell_type": "markdown",
      "source": [
        "# Label Encoding"
      ],
      "metadata": {
        "id": "wHzhs45Hdtiw"
      }
    },
    {
      "cell_type": "code",
      "source": [
        "df.info()\n",
        "# Encode categorical variables\n",
        "label_encoders = {}\n",
        "categorical_columns = ['Accident_Location', 'Classification_of_Accident', 'Initial_Impact_Type', 'Environment_Condition', 'Light',\n",
        "                        'Road_Surface_Condition', 'Traffic_Control', 'Traffic_Control_Condition']\n",
        "\n",
        "for column in categorical_columns:\n",
        "    le = LabelEncoder()\n",
        "    df[column] = le.fit_transform(df[column])\n",
        "    label_encoders[column] = le"
      ],
      "metadata": {
        "id": "Bl2FSO-QdxLb"
      },
      "execution_count": null,
      "outputs": []
    },
    {
      "cell_type": "markdown",
      "source": [
        "# One Hot Encoding"
      ],
      "metadata": {
        "id": "XgbTtwp_7lnW"
      }
    },
    {
      "cell_type": "code",
      "source": [
        "categorical_columns = ['Accident_Location', 'Classification_of_Accident', 'Initial_Impact_Type', 'Environment_Condition', 'Light',\n",
        "                        'Road_Surface_Condition', 'Traffic_Control', 'Traffic_Control_Condition']\n",
        "df = pd.get_dummies(df, columns=categorical_columns, drop_first=True)\n"
      ],
      "metadata": {
        "id": "nUAqUDDu7g_D"
      },
      "execution_count": 9,
      "outputs": []
    },
    {
      "cell_type": "markdown",
      "source": [
        "# Feature Selection"
      ],
      "metadata": {
        "id": "D7oFEFlngDo5"
      }
    },
    {
      "cell_type": "code",
      "source": [
        "#RFE, SelectKBest"
      ],
      "metadata": {
        "id": "XsDfdgvF6gSe"
      },
      "execution_count": null,
      "outputs": []
    },
    {
      "cell_type": "markdown",
      "source": [
        "# Dataset Split"
      ],
      "metadata": {
        "id": "-0pup9UYgI2I"
      }
    },
    {
      "cell_type": "code",
      "source": [
        "# Split the data into training and testing sets\n",
        "X = df.drop(columns=['Injured','No__of_Injuries','ObjectId'])\n",
        "y = df['Injured']\n",
        "\n",
        "print(y.value_counts())\n",
        "# Oversamplinh\n",
        "from imblearn.over_sampling import SMOTE\n",
        "oversample = SMOTE()\n",
        "X, y = oversample.fit_resample(X, y)\n",
        "\n",
        "\n",
        "X_train, X_test, y_train, y_test = train_test_split(X, y, test_size=0.2, random_state=42)"
      ],
      "metadata": {
        "id": "SzffJjWkgTQr",
        "colab": {
          "base_uri": "https://localhost:8080/"
        },
        "outputId": "d1090702-a535-412b-b30e-2288fa962eba"
      },
      "execution_count": 19,
      "outputs": [
        {
          "output_type": "stream",
          "name": "stdout",
          "text": [
            "0    13678\n",
            "1     2721\n",
            "Name: Injured, dtype: int64\n"
          ]
        }
      ]
    },
    {
      "cell_type": "code",
      "source": [
        "from sklearn.preprocessing import MinMaxScaler\n",
        "\n",
        "# Create a MinMaxScaler object\n",
        "scaler = MinMaxScaler()\n",
        "\n",
        "# Fit and transform the data\n",
        "X_scaled = scaler.fit_transform(X)"
      ],
      "metadata": {
        "id": "Hk-0pNrjP2VU"
      },
      "execution_count": 27,
      "outputs": []
    },
    {
      "cell_type": "code",
      "source": [
        "from sklearn.model_selection import train_test_split\n",
        "\n",
        "X_train, X_test, y_train, y_test = train_test_split(\n",
        "    X_scaled, y, test_size=0.3, random_state=69\n",
        ")\n",
        "X_test, X_val, y_test, y_val = train_test_split(\n",
        "    X_test, y_test, test_size=0.5, random_state=69\n",
        ")"
      ],
      "metadata": {
        "id": "v97wgiEUInau"
      },
      "execution_count": 28,
      "outputs": []
    },
    {
      "cell_type": "code",
      "source": [
        "print(X_train.shape)\n",
        "print(y_train.shape)\n",
        "print(X_test.shape)\n",
        "print(y_test.shape)\n",
        "print(X_val.shape)\n",
        "print(y_val.shape)"
      ],
      "metadata": {
        "colab": {
          "base_uri": "https://localhost:8080/"
        },
        "id": "CFZRogfHMrxU",
        "outputId": "769487d6-b299-40f7-cf81-5bf26d802d1f"
      },
      "execution_count": 29,
      "outputs": [
        {
          "output_type": "stream",
          "name": "stdout",
          "text": [
            "(19149, 59)\n",
            "(19149,)\n",
            "(4103, 59)\n",
            "(4103,)\n",
            "(4104, 59)\n",
            "(4104,)\n"
          ]
        }
      ]
    },
    {
      "cell_type": "markdown",
      "source": [
        "# KNN Model Training"
      ],
      "metadata": {
        "id": "8mYnehyLaxOP"
      }
    },
    {
      "cell_type": "code",
      "source": [
        "knn_model = KNeighborsClassifier()#n_neighbors=3)\n",
        "knn_model.fit(X_train, y_train)\n",
        "knn_predictions = knn_model.predict(X_test)\n",
        "\n",
        "# Evaluate model\n",
        "print(\"KNN Model:\")\n",
        "print(\"Accuracy:\", accuracy_score(y_test, knn_predictions))\n",
        "print(\"Classification Report:\\n\", classification_report(y_test, knn_predictions))\n",
        "print(\"Confusion Matrix:\\n\", confusion_matrix(y_test, knn_predictions))\n",
        "\n",
        "knn_val_predictions = knn_model.predict(X_val)\n",
        "print(\"Validation Set Results:\")\n",
        "print(\"Accuracy:\", accuracy_score(y_val, knn_val_predictions))\n",
        "print(\"Classification Report:\\n\", classification_report(y_val, knn_val_predictions))\n",
        "print(\"Confusion Matrix:\\n\", confusion_matrix(y_val, knn_val_predictions))\n"
      ],
      "metadata": {
        "id": "A6ZsthpOawNW",
        "colab": {
          "base_uri": "https://localhost:8080/"
        },
        "outputId": "9f157e8f-f379-4797-ef80-bc0d831a1bcd"
      },
      "execution_count": 30,
      "outputs": [
        {
          "output_type": "stream",
          "name": "stdout",
          "text": [
            "KNN Model:\n",
            "Accuracy: 0.9992688276870583\n",
            "Classification Report:\n",
            "               precision    recall  f1-score   support\n",
            "\n",
            "           0       1.00      1.00      1.00      2061\n",
            "           1       1.00      1.00      1.00      2042\n",
            "\n",
            "    accuracy                           1.00      4103\n",
            "   macro avg       1.00      1.00      1.00      4103\n",
            "weighted avg       1.00      1.00      1.00      4103\n",
            "\n",
            "Confusion Matrix:\n",
            " [[2061    0]\n",
            " [   3 2039]]\n",
            "Validation Set Results:\n",
            "Accuracy: 0.9975633528265108\n",
            "Classification Report:\n",
            "               precision    recall  f1-score   support\n",
            "\n",
            "           0       1.00      1.00      1.00      2058\n",
            "           1       1.00      1.00      1.00      2046\n",
            "\n",
            "    accuracy                           1.00      4104\n",
            "   macro avg       1.00      1.00      1.00      4104\n",
            "weighted avg       1.00      1.00      1.00      4104\n",
            "\n",
            "Confusion Matrix:\n",
            " [[2057    1]\n",
            " [   9 2037]]\n"
          ]
        }
      ]
    },
    {
      "cell_type": "markdown",
      "source": [
        "# Decision Tree Model Training"
      ],
      "metadata": {
        "id": "85udvFIzgnXV"
      }
    },
    {
      "cell_type": "code",
      "source": [
        "# Decision Tree Model\n",
        "dt_model = DecisionTreeClassifier(random_state=42, max_depth=10)\n",
        "dt_model.fit(X_train, y_train)\n",
        "dt_predictions = dt_model.predict(X_test)\n",
        "\n",
        "# Evaluate model\n",
        "print(\"\\nDecision Tree Model:\")\n",
        "print(\"Accuracy:\", accuracy_score(y_test, dt_predictions))\n",
        "print(\"Classification Report:\\n\", classification_report(y_test, dt_predictions))\n",
        "print(\"Confusion Matrix:\\n\", confusion_matrix(y_test, dt_predictions))\n",
        "\n",
        "dt_val_predictions = dt_model.predict(X_val)\n",
        "print(\"Validation Set Results:\")\n",
        "print(\"Accuracy:\", accuracy_score(y_val, dt_val_predictions))\n",
        "print(\"Classification Report:\\n\", classification_report(y_val, dt_val_predictions))\n",
        "print(\"Confusion Matrix:\\n\", confusion_matrix(y_val, dt_val_predictions))\n"
      ],
      "metadata": {
        "id": "rI7Nf3BLgqBX",
        "colab": {
          "base_uri": "https://localhost:8080/"
        },
        "outputId": "b67d0260-4b03-46f8-ce88-565b49108b5e"
      },
      "execution_count": 26,
      "outputs": [
        {
          "output_type": "stream",
          "name": "stdout",
          "text": [
            "\n",
            "Decision Tree Model:\n",
            "Accuracy: 1.0\n",
            "Classification Report:\n",
            "               precision    recall  f1-score   support\n",
            "\n",
            "           0       1.00      1.00      1.00      2061\n",
            "           1       1.00      1.00      1.00      2042\n",
            "\n",
            "    accuracy                           1.00      4103\n",
            "   macro avg       1.00      1.00      1.00      4103\n",
            "weighted avg       1.00      1.00      1.00      4103\n",
            "\n",
            "Confusion Matrix:\n",
            " [[2061    0]\n",
            " [   0 2042]]\n",
            "Validation Set Results:\n",
            "Accuracy: 0.9997563352826511\n",
            "Classification Report:\n",
            "               precision    recall  f1-score   support\n",
            "\n",
            "           0       1.00      1.00      1.00      2058\n",
            "           1       1.00      1.00      1.00      2046\n",
            "\n",
            "    accuracy                           1.00      4104\n",
            "   macro avg       1.00      1.00      1.00      4104\n",
            "weighted avg       1.00      1.00      1.00      4104\n",
            "\n",
            "Confusion Matrix:\n",
            " [[2057    1]\n",
            " [   0 2046]]\n"
          ]
        }
      ]
    },
    {
      "cell_type": "code",
      "source": [
        "X.info()"
      ],
      "metadata": {
        "colab": {
          "base_uri": "https://localhost:8080/"
        },
        "id": "GYDqBezDM_kf",
        "outputId": "257d925d-c7ac-4754-f9cb-cb28b046620c"
      },
      "execution_count": 17,
      "outputs": [
        {
          "output_type": "stream",
          "name": "stdout",
          "text": [
            "<class 'pandas.core.frame.DataFrame'>\n",
            "RangeIndex: 27356 entries, 0 to 27355\n",
            "Data columns (total 60 columns):\n",
            " #   Column                                             Non-Null Count  Dtype  \n",
            "---  ------                                             --------------  -----  \n",
            " 0   No__of_Vehicles                                    27356 non-null  int64  \n",
            " 1   No__of_Bicycles                                    27356 non-null  int64  \n",
            " 2   No__of_Motorcycles                                 27356 non-null  int64  \n",
            " 3   No__of_Pedestrians                                 27356 non-null  int64  \n",
            " 4   X                                                  27356 non-null  float64\n",
            " 5   Y                                                  27356 non-null  float64\n",
            " 6   Latitude                                           27356 non-null  float64\n",
            " 7   Longitude                                          27356 non-null  float64\n",
            " 8   ObjectId                                           27356 non-null  int64  \n",
            " 9   Accident_Location_02 - Intersection related        27356 non-null  uint8  \n",
            " 10  Accident_Location_03 - At intersection             27356 non-null  uint8  \n",
            " 11  Accident_Location_04 - At/near private drive       27356 non-null  uint8  \n",
            " 12  Accident_Location_05 - At railway crossing         27356 non-null  uint8  \n",
            " 13  Accident_Location_06 - Underpass or tunnel         27356 non-null  uint8  \n",
            " 14  Accident_Location_07 - Overpass or bridge          27356 non-null  uint8  \n",
            " 15  Classification_of_Accident_02 - Non-fatal injury   27356 non-null  uint8  \n",
            " 16  Classification_of_Accident_03 - P.D. only          27356 non-null  uint8  \n",
            " 17  Initial_Impact_Type_02 - Angle                     27356 non-null  uint8  \n",
            " 18  Initial_Impact_Type_03 - Rear end                  27356 non-null  uint8  \n",
            " 19  Initial_Impact_Type_04 - Sideswipe                 27356 non-null  uint8  \n",
            " 20  Initial_Impact_Type_05 - Turning movement          27356 non-null  uint8  \n",
            " 21  Initial_Impact_Type_06 - SMV unattended vehicle    27356 non-null  uint8  \n",
            " 22  Initial_Impact_Type_07 - SMV other                 27356 non-null  uint8  \n",
            " 23  Initial_Impact_Type_99 - Other                     27356 non-null  uint8  \n",
            " 24  Environment_Condition_01 - Clear                   27356 non-null  uint8  \n",
            " 25  Environment_Condition_02 - Rain                    27356 non-null  uint8  \n",
            " 26  Environment_Condition_03 - Snow                    27356 non-null  uint8  \n",
            " 27  Environment_Condition_04 - Freezing Rain           27356 non-null  uint8  \n",
            " 28  Environment_Condition_05 - Drifting Snow           27356 non-null  uint8  \n",
            " 29  Environment_Condition_06 - Strong wind             27356 non-null  uint8  \n",
            " 30  Environment_Condition_07 - Fog, mist, smoke, dust  27356 non-null  uint8  \n",
            " 31  Light_01 - Daylight                                27356 non-null  uint8  \n",
            " 32  Light_03 - Dawn                                    27356 non-null  uint8  \n",
            " 33  Light_05 - Dusk                                    27356 non-null  uint8  \n",
            " 34  Light_07 - Dark                                    27356 non-null  uint8  \n",
            " 35  Road_Surface_Condition_01 - Dry                    27356 non-null  uint8  \n",
            " 36  Road_Surface_Condition_02 - Wet                    27356 non-null  uint8  \n",
            " 37  Road_Surface_Condition_03 - Loose snow             27356 non-null  uint8  \n",
            " 38  Road_Surface_Condition_04 - Slush                  27356 non-null  uint8  \n",
            " 39  Road_Surface_Condition_05 - Packed snow            27356 non-null  uint8  \n",
            " 40  Road_Surface_Condition_06 - Ice                    27356 non-null  uint8  \n",
            " 41  Road_Surface_Condition_07 - Mud                    27356 non-null  uint8  \n",
            " 42  Road_Surface_Condition_08 - Loose sand or gravel   27356 non-null  uint8  \n",
            " 43  Road_Surface_Condition_09 - Spilled liquid         27356 non-null  uint8  \n",
            " 44  Road_Surface_Condition_99 - Other                  27356 non-null  uint8  \n",
            " 45  Traffic_Control_02 - Stop sign                     27356 non-null  uint8  \n",
            " 46  Traffic_Control_03 - Yield sign                    27356 non-null  uint8  \n",
            " 47  Traffic_Control_04 - Ped. crossover                27356 non-null  uint8  \n",
            " 48  Traffic_Control_07 - School bus                    27356 non-null  uint8  \n",
            " 49  Traffic_Control_08 - Traffic gate                  27356 non-null  uint8  \n",
            " 50  Traffic_Control_09 - Traffic controller            27356 non-null  uint8  \n",
            " 51  Traffic_Control_10 - No control                    27356 non-null  uint8  \n",
            " 52  Traffic_Control_11 - Roundabout                    27356 non-null  uint8  \n",
            " 53  Traffic_Control_12 - IPS                           27356 non-null  uint8  \n",
            " 54  Traffic_Control_13 - MPS                           27356 non-null  uint8  \n",
            " 55  Traffic_Control_99 - Other                         27356 non-null  uint8  \n",
            " 56  Traffic_Control_Condition_01 - Functioning         27356 non-null  uint8  \n",
            " 57  Traffic_Control_Condition_02 - Not functioning     27356 non-null  uint8  \n",
            " 58  Traffic_Control_Condition_03 - Obscured            27356 non-null  uint8  \n",
            " 59  Traffic_Control_Condition_04 - Missing/Damaged     27356 non-null  uint8  \n",
            "dtypes: float64(4), int64(5), uint8(51)\n",
            "memory usage: 3.2 MB\n"
          ]
        }
      ]
    }
  ]
}